# Declare variables of different data types
integer_var = 42
float_var = 3.14159
string_var = "Hello, World!"
boolean_var = True

# Print each variable and its type
print(f"Integer variable: {integer_var}, Type: {type(integer_var)}")
print(f"Float variable: {float_var}, Type: {type(float_var)}")
print(f"String variable: {string_var}, Type: {type(string_var)}")
print(f"Boolean variable: {boolean_var}, Type: {type(boolean_var)}")
